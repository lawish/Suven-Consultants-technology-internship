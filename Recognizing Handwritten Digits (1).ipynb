{
 "cells": [
  {
   "cell_type": "markdown",
   "id": "274d42eb",
   "metadata": {},
   "source": [
    "\n",
    "# Recognizing Handwritten Digits using scikit-learn "
   ]
  },
  {
   "cell_type": "markdown",
   "id": "bfad9d45",
   "metadata": {},
   "source": [
    "## Problem Statement:\n",
    "\n",
    "### The Digitsdata set of scikit-learn library provides numerous data-sets that are useful for testing many problems of data analysis and prediction of the results. Some Scientist claims that it predicts the digit accurately 95% of the times. Perform data Analysis to acceptor reject this Hypothesis. "
   ]
  },
  {
   "cell_type": "code",
   "execution_count": 1,
   "id": "21ad9c32",
   "metadata": {},
   "outputs": [],
   "source": [
    "#importing libraries\n",
    "import numpy as np\n",
    "import matplotlib.pyplot as plt\n",
    "import seaborn as sns\n",
    "from sklearn import svm\n",
    "from sklearn.neighbors import KNeighborsClassifier\n",
    "from sklearn.linear_model import LogisticRegression \n",
    "from sklearn.ensemble import RandomForestClassifier\n",
    "import warnings \n",
    "warnings.filterwarnings(\"ignore\")"
   ]
  },
  {
   "cell_type": "code",
   "execution_count": 2,
   "id": "6b7be269",
   "metadata": {},
   "outputs": [],
   "source": [
    "# Importing dataset from sk-learn library\n",
    "from sklearn import datasets\n",
    "digits = datasets.load_digits()"
   ]
  },
  {
   "cell_type": "code",
   "execution_count": 3,
   "id": "ae72c39b",
   "metadata": {},
   "outputs": [
    {
     "name": "stdout",
     "output_type": "stream",
     "text": [
      ".. _digits_dataset:\n",
      "\n",
      "Optical recognition of handwritten digits dataset\n",
      "--------------------------------------------------\n",
      "\n",
      "**Data Set Characteristics:**\n",
      "\n",
      "    :Number of Instances: 1797\n",
      "    :Number of Attributes: 64\n",
      "    :Attribute Information: 8x8 image of integer pixels in the range 0..16.\n",
      "    :Missing Attribute Values: None\n",
      "    :Creator: E. Alpaydin (alpaydin '@' boun.edu.tr)\n",
      "    :Date: July; 1998\n",
      "\n",
      "This is a copy of the test set of the UCI ML hand-written digits datasets\n",
      "https://archive.ics.uci.edu/ml/datasets/Optical+Recognition+of+Handwritten+Digits\n",
      "\n",
      "The data set contains images of hand-written digits: 10 classes where\n",
      "each class refers to a digit.\n",
      "\n",
      "Preprocessing programs made available by NIST were used to extract\n",
      "normalized bitmaps of handwritten digits from a preprinted form. From a\n",
      "total of 43 people, 30 contributed to the training set and different 13\n",
      "to the test set. 32x32 bitmaps are divided into nonoverlapping blocks of\n",
      "4x4 and the number of on pixels are counted in each block. This generates\n",
      "an input matrix of 8x8 where each element is an integer in the range\n",
      "0..16. This reduces dimensionality and gives invariance to small\n",
      "distortions.\n",
      "\n",
      "For info on NIST preprocessing routines, see M. D. Garris, J. L. Blue, G.\n",
      "T. Candela, D. L. Dimmick, J. Geist, P. J. Grother, S. A. Janet, and C.\n",
      "L. Wilson, NIST Form-Based Handprint Recognition System, NISTIR 5469,\n",
      "1994.\n",
      "\n",
      ".. topic:: References\n",
      "\n",
      "  - C. Kaynak (1995) Methods of Combining Multiple Classifiers and Their\n",
      "    Applications to Handwritten Digit Recognition, MSc Thesis, Institute of\n",
      "    Graduate Studies in Science and Engineering, Bogazici University.\n",
      "  - E. Alpaydin, C. Kaynak (1998) Cascading Classifiers, Kybernetika.\n",
      "  - Ken Tang and Ponnuthurai N. Suganthan and Xi Yao and A. Kai Qin.\n",
      "    Linear dimensionalityreduction using relevance weighted LDA. School of\n",
      "    Electrical and Electronic Engineering Nanyang Technological University.\n",
      "    2005.\n",
      "  - Claudio Gentile. A New Approximate Maximal Margin Classification\n",
      "    Algorithm. NIPS. 2000.\n",
      "\n"
     ]
    }
   ],
   "source": [
    "# Description of dataset\n",
    "print(digits.DESCR)"
   ]
  },
  {
   "cell_type": "code",
   "execution_count": 4,
   "id": "c4182abe",
   "metadata": {},
   "outputs": [
    {
     "name": "stdout",
     "output_type": "stream",
     "text": [
      "(1797, 64)\n"
     ]
    }
   ],
   "source": [
    "# shape of dataset\n",
    "print(digits.data.shape)"
   ]
  },
  {
   "cell_type": "code",
   "execution_count": 5,
   "id": "da7db0e2",
   "metadata": {},
   "outputs": [
    {
     "data": {
      "text/plain": [
       "<Figure size 432x288 with 0 Axes>"
      ]
     },
     "metadata": {},
     "output_type": "display_data"
    },
    {
     "data": {
      "image/png": "[encoded data removed]",
      "text/plain": [
       "<Figure size 288x288 with 1 Axes>"
      ]
     },
     "metadata": {
      "needs_background": "light"
     },
     "output_type": "display_data"
    }
   ],
   "source": [
    "# ploting single digit image\n",
    "plt.gray()\n",
    "plt.matshow(digits.images[0],cmap=plt.cm.hot,interpolation = 'nearest')\n",
    "plt.show()"
   ]
  },
  {
   "cell_type": "markdown",
   "id": "8e5e96f6",
   "metadata": {},
   "source": [
    "### To apply a classifier on this data, we need to flatten the images, turning each 2-D array of grayscale values from shape (8, 8) into shape (64,). Subsequently, the entire dataset will be of shape (sample, features), where sample is the number of images and features is the total number of pixels in each image.\n",
    "\n"
   ]
  },
  {
   "cell_type": "code",
   "execution_count": 6,
   "id": "18f72086",
   "metadata": {},
   "outputs": [],
   "source": [
    "# flatten the images\n",
    "sample = len(digits.images)\n",
    "data = digits.images.reshape((sample, -1))"
   ]
  },
  {
   "cell_type": "code",
   "execution_count": 7,
   "id": "a1d4d703",
   "metadata": {},
   "outputs": [
    {
     "name": "stdout",
     "output_type": "stream",
     "text": [
      "[[ 0.  0.  5. ...  0.  0.  0.]\n",
      " [ 0.  0.  0. ... 10.  0.  0.]\n",
      " [ 0.  0.  0. ... 16.  9.  0.]\n",
      " ...\n",
      " [ 0.  0.  1. ...  6.  0.  0.]\n",
      " [ 0.  0.  2. ... 12.  0.  0.]\n",
      " [ 0.  0. 10. ... 12.  1.  0.]]\n"
     ]
    }
   ],
   "source": [
    "print(data.view())"
   ]
  },
  {
   "cell_type": "code",
   "execution_count": 8,
   "id": "c2baa4e9",
   "metadata": {},
   "outputs": [
    {
     "name": "stdout",
     "output_type": "stream",
     "text": [
      "1797\n"
     ]
    }
   ],
   "source": [
    "sample = len(digits.images)\n",
    "print(sample)"
   ]
  },
  {
   "cell_type": "markdown",
   "id": "1c6e9401",
   "metadata": {},
   "source": [
    "\n",
    "# Training and Testing split \n"
   ]
  },
  {
   "cell_type": "code",
   "execution_count": 9,
   "id": "67f0767b",
   "metadata": {},
   "outputs": [],
   "source": [
    "# spliting data in training and testing split\n",
    "from sklearn.model_selection import train_test_split \n",
    "x_train, x_test, y_train, y_test = train_test_split(data, digits.target,test_size = 0.3,random_state=0)"
   ]
  },
  {
   "cell_type": "code",
   "execution_count": 10,
   "id": "f92c0b15",
   "metadata": {},
   "outputs": [
    {
     "name": "stdout",
     "output_type": "stream",
     "text": [
      "lenth of x_train is 1257\n",
      "length of x_test is 540\n"
     ]
    }
   ],
   "source": [
    "print(f'lenth of x_train is',len(x_train))\n",
    "print(f'length of x_test is',len(x_test))"
   ]
  },
  {
   "cell_type": "code",
   "execution_count": 11,
   "id": "5868f13c",
   "metadata": {},
   "outputs": [
    {
     "name": "stdout",
     "output_type": "stream",
     "text": [
      "[ 0.  0.  5. 13.  9.  1.  0.  0.  0.  0. 13. 15. 10. 15.  5.  0.  0.  3.\n",
      " 15.  2.  0. 11.  8.  0.  0.  4. 12.  0.  0.  8.  8.  0.  0.  5.  8.  0.\n",
      "  0.  9.  8.  0.  0.  4. 11.  0.  1. 12.  7.  0.  0.  2. 14.  5. 10. 12.\n",
      "  0.  0.  0.  0.  6. 13. 10.  0.  0.  0.]\n",
      "[0 1 2 3 4 5 6 7 8 9]\n"
     ]
    }
   ],
   "source": [
    "print(digits.data[0])\n",
    "print(digits.target[0:10])"
   ]
  },
  {
   "cell_type": "markdown",
   "id": "62b40e9e",
   "metadata": {},
   "source": [
    "### The digits dataset consists of 8x8 pixel images of digits. The images attribute of the dataset stores 8x8 arrays of grayscale values for each image. We will use these arrays to visualize the images. \n",
    "\n",
    "\n",
    "\n",
    "\n",
    "### Visualization of digits from 0 to 9\n"
   ]
  },
  {
   "cell_type": "code",
   "execution_count": 12,
   "id": "9e395d3d",
   "metadata": {},
   "outputs": [
    {
     "data": {
      "image/png": "[encoded data removed]",
      "text/plain": [
       "<Figure size 1296x648 with 10 Axes>"
      ]
     },
     "metadata": {
      "needs_background": "light"
     },
     "output_type": "display_data"
    }
   ],
   "source": [
    "# Visualization of digits\n",
    "plt.figure(figsize=(18,9))\n",
    "for index,(image,label) in enumerate(zip(digits.data[0:10], digits.target[0:10])):\n",
    "    plt.subplot(2,5,index+1)\n",
    "    plt.imshow(np.reshape(image,(8,8)),cmap=plt.cm.gray)\n",
    "    plt.title('Digit %d\\n'% label, fontsize =15 )"
   ]
  },
  {
   "cell_type": "markdown",
   "id": "e613e41d",
   "metadata": {},
   "source": [
    "# Prediction using:\n",
    "# 1.SVC(Support Vector Classifier)"
   ]
  },
  {
   "cell_type": "code",
   "execution_count": 13,
   "id": "0dee57de",
   "metadata": {},
   "outputs": [],
   "source": [
    "# creating the model\n",
    "svc = svm.SVC(gamma=0.001, C=100.)"
   ]
  },
  {
   "cell_type": "code",
   "execution_count": 14,
   "id": "e6a67ef3",
   "metadata": {},
   "outputs": [
    {
     "data": {
      "text/html": [
       "<style>#sk-container-id-1 {color: black;background-color: white;}#sk-container-id-1 pre{padding: 0;}#sk-container-id-1 div.sk-toggleable {background-color: white;}#sk-container-id-1 label.sk-toggleable__label {cursor: pointer;display: block;width: 100%;margin-bottom: 0;padding: 0.3em;box-sizing: border-box;text-align: center;}#sk-container-id-1 label.sk-toggleable__label-arrow:before {content: \"▸\";float: left;margin-right: 0.25em;color: #696969;}#sk-container-id-1 label.sk-toggleable__label-arrow:hover:before {color: black;}#sk-container-id-1 div.sk-estimator:hover label.sk-toggleable__label-arrow:before {color: black;}#sk-container-id-1 div.sk-toggleable__content {max-height: 0;max-width: 0;overflow: hidden;text-align: left;background-color: #f0f8ff;}#sk-container-id-1 div.sk-toggleable__content pre {margin: 0.2em;color: black;border-radius: 0.25em;background-color: #f0f8ff;}#sk-container-id-1 input.sk-toggleable__control:checked~div.sk-toggleable__content {max-height: 200px;max-width: 100%;overflow: auto;}#sk-container-id-1 input.sk-toggleable__control:checked~label.sk-toggleable__label-arrow:before {content: \"▾\";}#sk-container-id-1 div.sk-estimator input.sk-toggleable__control:checked~label.sk-toggleable__label {background-color: #d4ebff;}#sk-container-id-1 div.sk-label input.sk-toggleable__control:checked~label.sk-toggleable__label {background-color: #d4ebff;}#sk-container-id-1 input.sk-hidden--visually {border: 0;clip: rect(1px 1px 1px 1px);clip: rect(1px, 1px, 1px, 1px);height: 1px;margin: -1px;overflow: hidden;padding: 0;position: absolute;width: 1px;}#sk-container-id-1 div.sk-estimator {font-family: monospace;background-color: #f0f8ff;border: 1px dotted black;border-radius: 0.25em;box-sizing: border-box;margin-bottom: 0.5em;}#sk-container-id-1 div.sk-estimator:hover {background-color: #d4ebff;}#sk-container-id-1 div.sk-parallel-item::after {content: \"\";width: 100%;border-bottom: 1px solid gray;flex-grow: 1;}#sk-container-id-1 div.sk-label:hover label.sk-toggleable__label {background-color: #d4ebff;}#sk-container-id-1 div.sk-serial::before {content: \"\";position: absolute;border-left: 1px solid gray;box-sizing: border-box;top: 0;bottom: 0;left: 50%;z-index: 0;}#sk-container-id-1 div.sk-serial {display: flex;flex-direction: column;align-items: center;background-color: white;padding-right: 0.2em;padding-left: 0.2em;position: relative;}#sk-container-id-1 div.sk-item {position: relative;z-index: 1;}#sk-container-id-1 div.sk-parallel {display: flex;align-items: stretch;justify-content: center;background-color: white;position: relative;}#sk-container-id-1 div.sk-item::before, #sk-container-id-1 div.sk-parallel-item::before {content: \"\";position: absolute;border-left: 1px solid gray;box-sizing: border-box;top: 0;bottom: 0;left: 50%;z-index: -1;}#sk-container-id-1 div.sk-parallel-item {display: flex;flex-direction: column;z-index: 1;position: relative;background-color: white;}#sk-container-id-1 div.sk-parallel-item:first-child::after {align-self: flex-end;width: 50%;}#sk-container-id-1 div.sk-parallel-item:last-child::after {align-self: flex-start;width: 50%;}#sk-container-id-1 div.sk-parallel-item:only-child::after {width: 0;}#sk-container-id-1 div.sk-dashed-wrapped {border: 1px dashed gray;margin: 0 0.4em 0.5em 0.4em;box-sizing: border-box;padding-bottom: 0.4em;background-color: white;}#sk-container-id-1 div.sk-label label {font-family: monospace;font-weight: bold;display: inline-block;line-height: 1.2em;}#sk-container-id-1 div.sk-label-container {text-align: center;}#sk-container-id-1 div.sk-container {/* jupyter's `normalize.less` sets `[hidden] { display: none; }` but bootstrap.min.css set `[hidden] { display: none !important; }` so we also need the `!important` here to be able to override the default hidden behavior on the sphinx rendered scikit-learn.org. See: https://github.com/scikit-learn/scikit-learn/issues/21755 */display: inline-block !important;position: relative;}#sk-container-id-1 div.sk-text-repr-fallback {display: none;}</style><div id=\"sk-container-id-1\" class=\"sk-top-container\"><div class=\"sk-text-repr-fallback\"><pre>SVC(C=100.0, gamma=0.001)</pre><b>In a Jupyter environment, please rerun this cell to show the HTML representation or trust the notebook. <br />On GitHub, the HTML representation is unable to render, please try loading this page with nbviewer.org.</b></div><div class=\"sk-container\" hidden><div class=\"sk-item\"><div class=\"sk-estimator sk-toggleable\"><input class=\"sk-toggleable__control sk-hidden--visually\" id=\"sk-estimator-id-1\" type=\"checkbox\" checked><label for=\"sk-estimator-id-1\" class=\"sk-toggleable__label sk-toggleable__label-arrow\">SVC</label><div class=\"sk-toggleable__content\"><pre>SVC(C=100.0, gamma=0.001)</pre></div></div></div></div></div>"
      ],
      "text/plain": [
       "SVC(C=100.0, gamma=0.001)"
      ]
     },
     "execution_count": 14,
     "metadata": {},
     "output_type": "execute_result"
    }
   ],
   "source": [
    "# fitting the svc model\n",
    "svc.fit(x_train,y_train)"
   ]
  },
  {
   "cell_type": "code",
   "execution_count": 15,
   "id": "fbb5f978",
   "metadata": {},
   "outputs": [],
   "source": [
    "#Prediction\n",
    "y_pred = svc.predict(x_test)"
   ]
  },
  {
   "cell_type": "code",
   "execution_count": 16,
   "id": "dde42b0f",
   "metadata": {},
   "outputs": [
    {
     "data": {
      "image/png": "[encoded data removed]",
      "text/plain": [
       "<Figure size 720x216 with 4 Axes>"
      ]
     },
     "metadata": {
      "needs_background": "light"
     },
     "output_type": "display_data"
    }
   ],
   "source": [
    "# test sample pridiction \n",
    "_, axes = plt.subplots(nrows=1, ncols=4, figsize=(10, 3))\n",
    "for ax, image, prediction in zip(axes, x_test, y_pred):\n",
    "    ax.set_axis_off()\n",
    "    image = image.reshape(8, 8)\n",
    "    ax.imshow(image, cmap=plt.cm.gray_r, interpolation='nearest')\n",
    "    ax.set_title(f'Prediction: {prediction}')\n",
    "    \n",
    "# save the figure\n",
    "plt.savefig('plot7.png', dpi=300, bbox_inches='tight')"
   ]
  },
  {
   "cell_type": "code",
   "execution_count": 17,
   "id": "b303844c",
   "metadata": {},
   "outputs": [
    {
     "name": "stdout",
     "output_type": "stream",
     "text": [
      "Confusion matrix: \n",
      "[[45  0  0  0  0  0  0  0  0  0]\n",
      " [ 0 52  0  0  0  0  0  0  0  0]\n",
      " [ 0  0 52  0  0  0  0  1  0  0]\n",
      " [ 0  0  0 54  0  0  0  0  0  0]\n",
      " [ 0  0  0  0 48  0  0  0  0  0]\n",
      " [ 0  0  0  0  0 55  1  0  0  1]\n",
      " [ 0  0  0  0  0  0 60  0  0  0]\n",
      " [ 0  0  0  0  0  0  0 53  0  0]\n",
      " [ 0  1  0  0  0  0  0  0 60  0]\n",
      " [ 0  0  0  0  0  1  0  0  0 56]]\n",
      "\n",
      "\n",
      "Classification Report: \n",
      "              precision    recall  f1-score   support\n",
      "\n",
      "           0       1.00      1.00      1.00        45\n",
      "           1       0.98      1.00      0.99        52\n",
      "           2       1.00      0.98      0.99        53\n",
      "           3       1.00      1.00      1.00        54\n",
      "           4       1.00      1.00      1.00        48\n",
      "           5       0.98      0.96      0.97        57\n",
      "           6       0.98      1.00      0.99        60\n",
      "           7       0.98      1.00      0.99        53\n",
      "           8       1.00      0.98      0.99        61\n",
      "           9       0.98      0.98      0.98        57\n",
      "\n",
      "    accuracy                           0.99       540\n",
      "   macro avg       0.99      0.99      0.99       540\n",
      "weighted avg       0.99      0.99      0.99       540\n",
      "\n"
     ]
    }
   ],
   "source": [
    "#using classification report and confusion matrix\n",
    "from sklearn.metrics import confusion_matrix, classification_report\n",
    "svc_confusion = confusion_matrix(y_test,y_pred)\n",
    "print(f'Confusion matrix: \\n{svc_confusion}\\n\\n')\n",
    "print(f'Classification Report: \\n{classification_report(y_test,y_pred)}')"
   ]
  },
  {
   "cell_type": "code",
   "execution_count": 18,
   "id": "a2c36c6c",
   "metadata": {},
   "outputs": [
    {
     "data": {
      "text/plain": [
       "Text(81.96000000000004, 0.5, 'True label')"
      ]
     },
     "execution_count": 18,
     "metadata": {},
     "output_type": "execute_result"
    },
    {
     "data": {
      "image/png": "[encoded data removed]",
      "text/plain": [
       "<Figure size 576x432 with 2 Axes>"
      ]
     },
     "metadata": {
      "needs_background": "light"
     },
     "output_type": "display_data"
    }
   ],
   "source": [
    "# heatmap for SVC classifier\n",
    "plt.figure(figsize=(8,6))\n",
    "s1=sns.heatmap(svc_confusion,square=True, annot=True,cmap='nipy_spectral_r', fmt='d', cbar=True)\n",
    "plt.title('Confusion Matrix for SVC',fontsize = 15)\n",
    "plt.xlabel('Predicted label', fontsize =15)\n",
    "plt.ylabel('True label', fontsize =15)"
   ]
  },
  {
   "cell_type": "code",
   "execution_count": 19,
   "id": "a1b5d011",
   "metadata": {},
   "outputs": [
    {
     "name": "stdout",
     "output_type": "stream",
     "text": [
      "SVC accuracy score: 99.07407407407408\n"
     ]
    }
   ],
   "source": [
    "# SVC accuracy score\n",
    "svc_score = svc.score(x_test, y_test)\n",
    "print('SVC accuracy score:',svc_score*100)"
   ]
  },
  {
   "cell_type": "markdown",
   "id": "384bc0b6",
   "metadata": {},
   "source": [
    "### Support vector Classifier gives 99.07% accuracy"
   ]
  },
  {
   "cell_type": "markdown",
   "id": "6c23a5e7",
   "metadata": {},
   "source": [
    "# 2. KNN(K-Nearest Neighbors) Classifier"
   ]
  },
  {
   "cell_type": "code",
   "execution_count": 20,
   "id": "b550e4fa",
   "metadata": {},
   "outputs": [],
   "source": [
    "# creating the model\n",
    "knn = KNeighborsClassifier()"
   ]
  },
  {
   "cell_type": "code",
   "execution_count": 21,
   "id": "445eec8b",
   "metadata": {},
   "outputs": [
    {
     "data": {
      "text/html": [
       "<style>#sk-container-id-2 {color: black;background-color: white;}#sk-container-id-2 pre{padding: 0;}#sk-container-id-2 div.sk-toggleable {background-color: white;}#sk-container-id-2 label.sk-toggleable__label {cursor: pointer;display: block;width: 100%;margin-bottom: 0;padding: 0.3em;box-sizing: border-box;text-align: center;}#sk-container-id-2 label.sk-toggleable__label-arrow:before {content: \"▸\";float: left;margin-right: 0.25em;color: #696969;}#sk-container-id-2 label.sk-toggleable__label-arrow:hover:before {color: black;}#sk-container-id-2 div.sk-estimator:hover label.sk-toggleable__label-arrow:before {color: black;}#sk-container-id-2 div.sk-toggleable__content {max-height: 0;max-width: 0;overflow: hidden;text-align: left;background-color: #f0f8ff;}#sk-container-id-2 div.sk-toggleable__content pre {margin: 0.2em;color: black;border-radius: 0.25em;background-color: #f0f8ff;}#sk-container-id-2 input.sk-toggleable__control:checked~div.sk-toggleable__content {max-height: 200px;max-width: 100%;overflow: auto;}#sk-container-id-2 input.sk-toggleable__control:checked~label.sk-toggleable__label-arrow:before {content: \"▾\";}#sk-container-id-2 div.sk-estimator input.sk-toggleable__control:checked~label.sk-toggleable__label {background-color: #d4ebff;}#sk-container-id-2 div.sk-label input.sk-toggleable__control:checked~label.sk-toggleable__label {background-color: #d4ebff;}#sk-container-id-2 input.sk-hidden--visually {border: 0;clip: rect(1px 1px 1px 1px);clip: rect(1px, 1px, 1px, 1px);height: 1px;margin: -1px;overflow: hidden;padding: 0;position: absolute;width: 1px;}#sk-container-id-2 div.sk-estimator {font-family: monospace;background-color: #f0f8ff;border: 1px dotted black;border-radius: 0.25em;box-sizing: border-box;margin-bottom: 0.5em;}#sk-container-id-2 div.sk-estimator:hover {background-color: #d4ebff;}#sk-container-id-2 div.sk-parallel-item::after {content: \"\";width: 100%;border-bottom: 1px solid gray;flex-grow: 1;}#sk-container-id-2 div.sk-label:hover label.sk-toggleable__label {background-color: #d4ebff;}#sk-container-id-2 div.sk-serial::before {content: \"\";position: absolute;border-left: 1px solid gray;box-sizing: border-box;top: 0;bottom: 0;left: 50%;z-index: 0;}#sk-container-id-2 div.sk-serial {display: flex;flex-direction: column;align-items: center;background-color: white;padding-right: 0.2em;padding-left: 0.2em;position: relative;}#sk-container-id-2 div.sk-item {position: relative;z-index: 1;}#sk-container-id-2 div.sk-parallel {display: flex;align-items: stretch;justify-content: center;background-color: white;position: relative;}#sk-container-id-2 div.sk-item::before, #sk-container-id-2 div.sk-parallel-item::before {content: \"\";position: absolute;border-left: 1px solid gray;box-sizing: border-box;top: 0;bottom: 0;left: 50%;z-index: -1;}#sk-container-id-2 div.sk-parallel-item {display: flex;flex-direction: column;z-index: 1;position: relative;background-color: white;}#sk-container-id-2 div.sk-parallel-item:first-child::after {align-self: flex-end;width: 50%;}#sk-container-id-2 div.sk-parallel-item:last-child::after {align-self: flex-start;width: 50%;}#sk-container-id-2 div.sk-parallel-item:only-child::after {width: 0;}#sk-container-id-2 div.sk-dashed-wrapped {border: 1px dashed gray;margin: 0 0.4em 0.5em 0.4em;box-sizing: border-box;padding-bottom: 0.4em;background-color: white;}#sk-container-id-2 div.sk-label label {font-family: monospace;font-weight: bold;display: inline-block;line-height: 1.2em;}#sk-container-id-2 div.sk-label-container {text-align: center;}#sk-container-id-2 div.sk-container {/* jupyter's `normalize.less` sets `[hidden] { display: none; }` but bootstrap.min.css set `[hidden] { display: none !important; }` so we also need the `!important` here to be able to override the default hidden behavior on the sphinx rendered scikit-learn.org. See: https://github.com/scikit-learn/scikit-learn/issues/21755 */display: inline-block !important;position: relative;}#sk-container-id-2 div.sk-text-repr-fallback {display: none;}</style><div id=\"sk-container-id-2\" class=\"sk-top-container\"><div class=\"sk-text-repr-fallback\"><pre>KNeighborsClassifier()</pre><b>In a Jupyter environment, please rerun this cell to show the HTML representation or trust the notebook. <br />On GitHub, the HTML representation is unable to render, please try loading this page with nbviewer.org.</b></div><div class=\"sk-container\" hidden><div class=\"sk-item\"><div class=\"sk-estimator sk-toggleable\"><input class=\"sk-toggleable__control sk-hidden--visually\" id=\"sk-estimator-id-2\" type=\"checkbox\" checked><label for=\"sk-estimator-id-2\" class=\"sk-toggleable__label sk-toggleable__label-arrow\">KNeighborsClassifier</label><div class=\"sk-toggleable__content\"><pre>KNeighborsClassifier()</pre></div></div></div></div></div>"
      ],
      "text/plain": [
       "KNeighborsClassifier()"
      ]
     },
     "execution_count": 21,
     "metadata": {},
     "output_type": "execute_result"
    }
   ],
   "source": [
    "# training the model\n",
    "knn.fit(x_train,y_train)"
   ]
  },
  {
   "cell_type": "code",
   "execution_count": 22,
   "id": "1f8b6f04",
   "metadata": {},
   "outputs": [],
   "source": [
    "# pridiction\n",
    "knn_y_predict = knn.predict(x_test)"
   ]
  },
  {
   "cell_type": "code",
   "execution_count": 23,
   "id": "d90a1964",
   "metadata": {},
   "outputs": [],
   "source": [
    "#Accuracy score \n",
    "knn_score = knn.score(x_test, y_test)"
   ]
  },
  {
   "cell_type": "code",
   "execution_count": 24,
   "id": "e472508b",
   "metadata": {},
   "outputs": [
    {
     "name": "stdout",
     "output_type": "stream",
     "text": [
      "Accuracy of model is: 98.15\n",
      "\n",
      "Confusion matrix: \n",
      "[[45  0  0  0  0  0  0  0  0  0]\n",
      " [ 0 51  0  0  0  1  0  0  0  0]\n",
      " [ 0  0 52  0  0  0  0  1  0  0]\n",
      " [ 0  0  1 53  0  0  0  0  0  0]\n",
      " [ 0  0  0  0 47  0  0  1  0  0]\n",
      " [ 0  0  0  0  0 55  1  0  0  1]\n",
      " [ 0  0  0  0  0  0 60  0  0  0]\n",
      " [ 0  0  0  0  0  0  0 53  0  0]\n",
      " [ 0  1  0  1  0  0  1  0 58  0]\n",
      " [ 0  0  0  0  0  1  0  0  0 56]]\n",
      "\n",
      "\n",
      "Classification Report: \n",
      "              precision    recall  f1-score   support\n",
      "\n",
      "           0       1.00      1.00      1.00        45\n",
      "           1       0.98      0.98      0.98        52\n",
      "           2       0.98      0.98      0.98        53\n",
      "           3       0.98      0.98      0.98        54\n",
      "           4       1.00      0.98      0.99        48\n",
      "           5       0.96      0.96      0.96        57\n",
      "           6       0.97      1.00      0.98        60\n",
      "           7       0.96      1.00      0.98        53\n",
      "           8       1.00      0.95      0.97        61\n",
      "           9       0.98      0.98      0.98        57\n",
      "\n",
      "    accuracy                           0.98       540\n",
      "   macro avg       0.98      0.98      0.98       540\n",
      "weighted avg       0.98      0.98      0.98       540\n",
      "\n"
     ]
    }
   ],
   "source": [
    "#using classification report and confusion matrix\n",
    "print(f'Accuracy of model is:',round(knn_score*100,2))\n",
    "print()\n",
    "from sklearn.metrics import confusion_matrix, classification_report\n",
    "knn_confusion = confusion_matrix(y_test,knn_y_predict)\n",
    "print(f'Confusion matrix: \\n{knn_confusion}\\n\\n')\n",
    "print(f'Classification Report: \\n{classification_report(y_test,knn_y_predict)}')\n"
   ]
  },
  {
   "cell_type": "code",
   "execution_count": 25,
   "id": "189921d0",
   "metadata": {},
   "outputs": [
    {
     "data": {
      "text/plain": [
       "Text(81.96000000000004, 0.5, 'True label')"
      ]
     },
     "execution_count": 25,
     "metadata": {},
     "output_type": "execute_result"
    },
    {
     "data": {
      "image/png": "[encoded data removed]",
      "text/plain": [
       "<Figure size 576x432 with 2 Axes>"
      ]
     },
     "metadata": {
      "needs_background": "light"
     },
     "output_type": "display_data"
    }
   ],
   "source": [
    "# heatmap for KNN Classifier\n",
    "plt.figure(figsize=(8,6))\n",
    "sns.heatmap(knn_confusion,square=True, annot=True,cmap='nipy_spectral_r', fmt='d', cbar=True)\n",
    "plt.title('Confusion Matrix for KNN',fontsize = 15)\n",
    "plt.xlabel('Predicted label', fontsize =15)\n",
    "plt.ylabel('True label', fontsize =15)"
   ]
  },
  {
   "cell_type": "code",
   "execution_count": 26,
   "id": "144f3414",
   "metadata": {},
   "outputs": [
    {
     "name": "stdout",
     "output_type": "stream",
     "text": [
      "98.14814814814815\n"
     ]
    }
   ],
   "source": [
    "knn_score = knn.score(x_test, y_test)\n",
    "print(knn_score*100)"
   ]
  },
  {
   "cell_type": "markdown",
   "id": "5e13a998",
   "metadata": {},
   "source": [
    "### K-Nearest Neighbors) Classifier gives 98.14% accuracy"
   ]
  },
  {
   "cell_type": "markdown",
   "id": "11cec8ee",
   "metadata": {},
   "source": [
    "\n",
    "\n",
    "# 3. Logistic Classification"
   ]
  },
  {
   "cell_type": "code",
   "execution_count": 27,
   "id": "e0ff7b49",
   "metadata": {},
   "outputs": [],
   "source": [
    "# creating the model\n",
    "lr = LogisticRegression()"
   ]
  },
  {
   "cell_type": "code",
   "execution_count": 28,
   "id": "36828384",
   "metadata": {},
   "outputs": [
    {
     "data": {
      "text/html": [
       "<style>#sk-container-id-3 {color: black;background-color: white;}#sk-container-id-3 pre{padding: 0;}#sk-container-id-3 div.sk-toggleable {background-color: white;}#sk-container-id-3 label.sk-toggleable__label {cursor: pointer;display: block;width: 100%;margin-bottom: 0;padding: 0.3em;box-sizing: border-box;text-align: center;}#sk-container-id-3 label.sk-toggleable__label-arrow:before {content: \"▸\";float: left;margin-right: 0.25em;color: #696969;}#sk-container-id-3 label.sk-toggleable__label-arrow:hover:before {color: black;}#sk-container-id-3 div.sk-estimator:hover label.sk-toggleable__label-arrow:before {color: black;}#sk-container-id-3 div.sk-toggleable__content {max-height: 0;max-width: 0;overflow: hidden;text-align: left;background-color: #f0f8ff;}#sk-container-id-3 div.sk-toggleable__content pre {margin: 0.2em;color: black;border-radius: 0.25em;background-color: #f0f8ff;}#sk-container-id-3 input.sk-toggleable__control:checked~div.sk-toggleable__content {max-height: 200px;max-width: 100%;overflow: auto;}#sk-container-id-3 input.sk-toggleable__control:checked~label.sk-toggleable__label-arrow:before {content: \"▾\";}#sk-container-id-3 div.sk-estimator input.sk-toggleable__control:checked~label.sk-toggleable__label {background-color: #d4ebff;}#sk-container-id-3 div.sk-label input.sk-toggleable__control:checked~label.sk-toggleable__label {background-color: #d4ebff;}#sk-container-id-3 input.sk-hidden--visually {border: 0;clip: rect(1px 1px 1px 1px);clip: rect(1px, 1px, 1px, 1px);height: 1px;margin: -1px;overflow: hidden;padding: 0;position: absolute;width: 1px;}#sk-container-id-3 div.sk-estimator {font-family: monospace;background-color: #f0f8ff;border: 1px dotted black;border-radius: 0.25em;box-sizing: border-box;margin-bottom: 0.5em;}#sk-container-id-3 div.sk-estimator:hover {background-color: #d4ebff;}#sk-container-id-3 div.sk-parallel-item::after {content: \"\";width: 100%;border-bottom: 1px solid gray;flex-grow: 1;}#sk-container-id-3 div.sk-label:hover label.sk-toggleable__label {background-color: #d4ebff;}#sk-container-id-3 div.sk-serial::before {content: \"\";position: absolute;border-left: 1px solid gray;box-sizing: border-box;top: 0;bottom: 0;left: 50%;z-index: 0;}#sk-container-id-3 div.sk-serial {display: flex;flex-direction: column;align-items: center;background-color: white;padding-right: 0.2em;padding-left: 0.2em;position: relative;}#sk-container-id-3 div.sk-item {position: relative;z-index: 1;}#sk-container-id-3 div.sk-parallel {display: flex;align-items: stretch;justify-content: center;background-color: white;position: relative;}#sk-container-id-3 div.sk-item::before, #sk-container-id-3 div.sk-parallel-item::before {content: \"\";position: absolute;border-left: 1px solid gray;box-sizing: border-box;top: 0;bottom: 0;left: 50%;z-index: -1;}#sk-container-id-3 div.sk-parallel-item {display: flex;flex-direction: column;z-index: 1;position: relative;background-color: white;}#sk-container-id-3 div.sk-parallel-item:first-child::after {align-self: flex-end;width: 50%;}#sk-container-id-3 div.sk-parallel-item:last-child::after {align-self: flex-start;width: 50%;}#sk-container-id-3 div.sk-parallel-item:only-child::after {width: 0;}#sk-container-id-3 div.sk-dashed-wrapped {border: 1px dashed gray;margin: 0 0.4em 0.5em 0.4em;box-sizing: border-box;padding-bottom: 0.4em;background-color: white;}#sk-container-id-3 div.sk-label label {font-family: monospace;font-weight: bold;display: inline-block;line-height: 1.2em;}#sk-container-id-3 div.sk-label-container {text-align: center;}#sk-container-id-3 div.sk-container {/* jupyter's `normalize.less` sets `[hidden] { display: none; }` but bootstrap.min.css set `[hidden] { display: none !important; }` so we also need the `!important` here to be able to override the default hidden behavior on the sphinx rendered scikit-learn.org. See: https://github.com/scikit-learn/scikit-learn/issues/21755 */display: inline-block !important;position: relative;}#sk-container-id-3 div.sk-text-repr-fallback {display: none;}</style><div id=\"sk-container-id-3\" class=\"sk-top-container\"><div class=\"sk-text-repr-fallback\"><pre>LogisticRegression()</pre><b>In a Jupyter environment, please rerun this cell to show the HTML representation or trust the notebook. <br />On GitHub, the HTML representation is unable to render, please try loading this page with nbviewer.org.</b></div><div class=\"sk-container\" hidden><div class=\"sk-item\"><div class=\"sk-estimator sk-toggleable\"><input class=\"sk-toggleable__control sk-hidden--visually\" id=\"sk-estimator-id-3\" type=\"checkbox\" checked><label for=\"sk-estimator-id-3\" class=\"sk-toggleable__label sk-toggleable__label-arrow\">LogisticRegression</label><div class=\"sk-toggleable__content\"><pre>LogisticRegression()</pre></div></div></div></div></div>"
      ],
      "text/plain": [
       "LogisticRegression()"
      ]
     },
     "execution_count": 28,
     "metadata": {},
     "output_type": "execute_result"
    }
   ],
   "source": [
    "# fitting the model\n",
    "lr.fit(x_train,y_train)"
   ]
  },
  {
   "cell_type": "code",
   "execution_count": 29,
   "id": "07261061",
   "metadata": {},
   "outputs": [],
   "source": [
    "# prediction\n",
    "lr_y_pred = lr.predict(x_test)"
   ]
  },
  {
   "cell_type": "code",
   "execution_count": 30,
   "id": "0e698a9a",
   "metadata": {},
   "outputs": [],
   "source": [
    "# prediction score\n",
    "lr_score = lr.score(x_test, y_test)"
   ]
  },
  {
   "cell_type": "code",
   "execution_count": 31,
   "id": "18e301ba",
   "metadata": {},
   "outputs": [
    {
     "name": "stdout",
     "output_type": "stream",
     "text": [
      "Confusion matrix: \n",
      "[[45  0  0  0  0  0  0  0  0  0]\n",
      " [ 0 49  0  0  0  0  0  0  2  1]\n",
      " [ 0  2 49  2  0  0  0  0  0  0]\n",
      " [ 0  0  0 52  0  0  0  0  1  1]\n",
      " [ 0  0  0  0 47  0  0  1  0  0]\n",
      " [ 0  0  0  0  0 55  0  0  0  2]\n",
      " [ 0  1  0  0  0  0 59  0  0  0]\n",
      " [ 0  0  0  1  1  0  0 51  0  0]\n",
      " [ 0  3  1  0  0  0  0  0 53  4]\n",
      " [ 0  0  0  0  0  1  0  0  1 55]]\n",
      "\n",
      "\n",
      "Classification Report: \n",
      "              precision    recall  f1-score   support\n",
      "\n",
      "           0       1.00      1.00      1.00        45\n",
      "           1       0.89      0.94      0.92        52\n",
      "           2       0.98      0.92      0.95        53\n",
      "           3       0.95      0.96      0.95        54\n",
      "           4       0.98      0.98      0.98        48\n",
      "           5       0.98      0.96      0.97        57\n",
      "           6       1.00      0.98      0.99        60\n",
      "           7       0.98      0.96      0.97        53\n",
      "           8       0.93      0.87      0.90        61\n",
      "           9       0.87      0.96      0.92        57\n",
      "\n",
      "    accuracy                           0.95       540\n",
      "   macro avg       0.96      0.96      0.96       540\n",
      "weighted avg       0.96      0.95      0.95       540\n",
      "\n"
     ]
    }
   ],
   "source": [
    "# Classification report and confusion matrix for Logistic Classification\n",
    "from sklearn.metrics import confusion_matrix, classification_report\n",
    "lr_confusion = confusion_matrix(y_test,lr_y_pred)\n",
    "print(f'Confusion matrix: \\n{lr_confusion}\\n\\n')\n",
    "print(f'Classification Report: \\n{classification_report(y_test,lr_y_pred)}')"
   ]
  },
  {
   "cell_type": "code",
   "execution_count": 32,
   "id": "7a72a3fd",
   "metadata": {},
   "outputs": [
    {
     "data": {
      "text/plain": [
       "Text(81.96000000000004, 0.5, 'True label')"
      ]
     },
     "execution_count": 32,
     "metadata": {},
     "output_type": "execute_result"
    },
    {
     "data": {
      "image/png": "[encoded data removed]",
      "text/plain": [
       "<Figure size 576x432 with 2 Axes>"
      ]
     },
     "metadata": {
      "needs_background": "light"
     },
     "output_type": "display_data"
    }
   ],
   "source": [
    "# heatmap of Logistic Classifier\n",
    "plt.figure(figsize=(8,6))\n",
    "sns.heatmap(lr_confusion,square=True, annot=True,cmap='nipy_spectral_r', fmt='d', cbar=True)\n",
    "plt.title('Confusion Matrix for Logistic Classification ',fontsize = 15)\n",
    "plt.xlabel('Predicted label', fontsize =15)\n",
    "plt.ylabel('True label', fontsize =15)"
   ]
  },
  {
   "cell_type": "code",
   "execution_count": 33,
   "id": "df48c210",
   "metadata": {},
   "outputs": [
    {
     "name": "stdout",
     "output_type": "stream",
     "text": [
      "Accuracy Score of Logistic Classifier: 95.37037037037037\n"
     ]
    }
   ],
   "source": [
    "# score\n",
    "lr_score = lr.score(x_test, y_test)\n",
    "print('Accuracy Score of Logistic Classifier:',(lr_score*100))"
   ]
  },
  {
   "cell_type": "markdown",
   "id": "762288a2",
   "metadata": {},
   "source": [
    "### Logistic Classifier gives 97.40% accuracy"
   ]
  },
  {
   "cell_type": "markdown",
   "id": "0084dd51",
   "metadata": {},
   "source": [
    "# 4.Random Forest Classifier\n"
   ]
  },
  {
   "cell_type": "code",
   "execution_count": 34,
   "id": "6f13ec01",
   "metadata": {},
   "outputs": [],
   "source": [
    "# creating the module\n",
    "rf = RandomForestClassifier()"
   ]
  },
  {
   "cell_type": "code",
   "execution_count": 35,
   "id": "d5ec2a52",
   "metadata": {},
   "outputs": [
    {
     "data": {
      "text/html": [
       "<style>#sk-container-id-4 {color: black;background-color: white;}#sk-container-id-4 pre{padding: 0;}#sk-container-id-4 div.sk-toggleable {background-color: white;}#sk-container-id-4 label.sk-toggleable__label {cursor: pointer;display: block;width: 100%;margin-bottom: 0;padding: 0.3em;box-sizing: border-box;text-align: center;}#sk-container-id-4 label.sk-toggleable__label-arrow:before {content: \"▸\";float: left;margin-right: 0.25em;color: #696969;}#sk-container-id-4 label.sk-toggleable__label-arrow:hover:before {color: black;}#sk-container-id-4 div.sk-estimator:hover label.sk-toggleable__label-arrow:before {color: black;}#sk-container-id-4 div.sk-toggleable__content {max-height: 0;max-width: 0;overflow: hidden;text-align: left;background-color: #f0f8ff;}#sk-container-id-4 div.sk-toggleable__content pre {margin: 0.2em;color: black;border-radius: 0.25em;background-color: #f0f8ff;}#sk-container-id-4 input.sk-toggleable__control:checked~div.sk-toggleable__content {max-height: 200px;max-width: 100%;overflow: auto;}#sk-container-id-4 input.sk-toggleable__control:checked~label.sk-toggleable__label-arrow:before {content: \"▾\";}#sk-container-id-4 div.sk-estimator input.sk-toggleable__control:checked~label.sk-toggleable__label {background-color: #d4ebff;}#sk-container-id-4 div.sk-label input.sk-toggleable__control:checked~label.sk-toggleable__label {background-color: #d4ebff;}#sk-container-id-4 input.sk-hidden--visually {border: 0;clip: rect(1px 1px 1px 1px);clip: rect(1px, 1px, 1px, 1px);height: 1px;margin: -1px;overflow: hidden;padding: 0;position: absolute;width: 1px;}#sk-container-id-4 div.sk-estimator {font-family: monospace;background-color: #f0f8ff;border: 1px dotted black;border-radius: 0.25em;box-sizing: border-box;margin-bottom: 0.5em;}#sk-container-id-4 div.sk-estimator:hover {background-color: #d4ebff;}#sk-container-id-4 div.sk-parallel-item::after {content: \"\";width: 100%;border-bottom: 1px solid gray;flex-grow: 1;}#sk-container-id-4 div.sk-label:hover label.sk-toggleable__label {background-color: #d4ebff;}#sk-container-id-4 div.sk-serial::before {content: \"\";position: absolute;border-left: 1px solid gray;box-sizing: border-box;top: 0;bottom: 0;left: 50%;z-index: 0;}#sk-container-id-4 div.sk-serial {display: flex;flex-direction: column;align-items: center;background-color: white;padding-right: 0.2em;padding-left: 0.2em;position: relative;}#sk-container-id-4 div.sk-item {position: relative;z-index: 1;}#sk-container-id-4 div.sk-parallel {display: flex;align-items: stretch;justify-content: center;background-color: white;position: relative;}#sk-container-id-4 div.sk-item::before, #sk-container-id-4 div.sk-parallel-item::before {content: \"\";position: absolute;border-left: 1px solid gray;box-sizing: border-box;top: 0;bottom: 0;left: 50%;z-index: -1;}#sk-container-id-4 div.sk-parallel-item {display: flex;flex-direction: column;z-index: 1;position: relative;background-color: white;}#sk-container-id-4 div.sk-parallel-item:first-child::after {align-self: flex-end;width: 50%;}#sk-container-id-4 div.sk-parallel-item:last-child::after {align-self: flex-start;width: 50%;}#sk-container-id-4 div.sk-parallel-item:only-child::after {width: 0;}#sk-container-id-4 div.sk-dashed-wrapped {border: 1px dashed gray;margin: 0 0.4em 0.5em 0.4em;box-sizing: border-box;padding-bottom: 0.4em;background-color: white;}#sk-container-id-4 div.sk-label label {font-family: monospace;font-weight: bold;display: inline-block;line-height: 1.2em;}#sk-container-id-4 div.sk-label-container {text-align: center;}#sk-container-id-4 div.sk-container {/* jupyter's `normalize.less` sets `[hidden] { display: none; }` but bootstrap.min.css set `[hidden] { display: none !important; }` so we also need the `!important` here to be able to override the default hidden behavior on the sphinx rendered scikit-learn.org. See: https://github.com/scikit-learn/scikit-learn/issues/21755 */display: inline-block !important;position: relative;}#sk-container-id-4 div.sk-text-repr-fallback {display: none;}</style><div id=\"sk-container-id-4\" class=\"sk-top-container\"><div class=\"sk-text-repr-fallback\"><pre>RandomForestClassifier()</pre><b>In a Jupyter environment, please rerun this cell to show the HTML representation or trust the notebook. <br />On GitHub, the HTML representation is unable to render, please try loading this page with nbviewer.org.</b></div><div class=\"sk-container\" hidden><div class=\"sk-item\"><div class=\"sk-estimator sk-toggleable\"><input class=\"sk-toggleable__control sk-hidden--visually\" id=\"sk-estimator-id-4\" type=\"checkbox\" checked><label for=\"sk-estimator-id-4\" class=\"sk-toggleable__label sk-toggleable__label-arrow\">RandomForestClassifier</label><div class=\"sk-toggleable__content\"><pre>RandomForestClassifier()</pre></div></div></div></div></div>"
      ],
      "text/plain": [
       "RandomForestClassifier()"
      ]
     },
     "execution_count": 35,
     "metadata": {},
     "output_type": "execute_result"
    }
   ],
   "source": [
    "# fitting the model\n",
    "rf.fit(x_train,y_train)"
   ]
  },
  {
   "cell_type": "code",
   "execution_count": 36,
   "id": "f4ba0fcd",
   "metadata": {},
   "outputs": [],
   "source": [
    "# prediction\n",
    "rf_y_pred = rf.predict(x_test)"
   ]
  },
  {
   "cell_type": "code",
   "execution_count": 37,
   "id": "ad9586ef",
   "metadata": {},
   "outputs": [],
   "source": [
    "# prediction score\n",
    "rf_score = rf.score(x_test, y_test)"
   ]
  },
  {
   "cell_type": "code",
   "execution_count": 38,
   "id": "ed68651d",
   "metadata": {},
   "outputs": [
    {
     "name": "stdout",
     "output_type": "stream",
     "text": [
      "Confusion matrix: \n",
      "[[45  0  0  0  0  0  0  0  0  0]\n",
      " [ 0 51  0  0  0  1  0  0  0  0]\n",
      " [ 1  0 50  1  0  0  0  0  0  1]\n",
      " [ 0  0  0 54  0  0  0  0  0  0]\n",
      " [ 0  0  0  0 47  0  0  1  0  0]\n",
      " [ 0  0  0  0  0 55  1  0  0  1]\n",
      " [ 0  0  0  0  0  0 60  0  0  0]\n",
      " [ 0  0  0  0  0  0  0 53  0  0]\n",
      " [ 0  2  0  2  0  0  0  1 56  0]\n",
      " [ 0  0  0  1  0  2  0  0  0 54]]\n",
      "\n",
      "\n",
      "Classification Report: \n",
      "              precision    recall  f1-score   support\n",
      "\n",
      "           0       0.98      1.00      0.99        45\n",
      "           1       0.96      0.98      0.97        52\n",
      "           2       1.00      0.94      0.97        53\n",
      "           3       0.93      1.00      0.96        54\n",
      "           4       1.00      0.98      0.99        48\n",
      "           5       0.95      0.96      0.96        57\n",
      "           6       0.98      1.00      0.99        60\n",
      "           7       0.96      1.00      0.98        53\n",
      "           8       1.00      0.92      0.96        61\n",
      "           9       0.96      0.95      0.96        57\n",
      "\n",
      "    accuracy                           0.97       540\n",
      "   macro avg       0.97      0.97      0.97       540\n",
      "weighted avg       0.97      0.97      0.97       540\n",
      "\n"
     ]
    }
   ],
   "source": [
    "# Classification report and confusion matrix for Logistic Classification\n",
    "from sklearn.metrics import confusion_matrix, classification_report\n",
    "rf_confusion = confusion_matrix(y_test,rf_y_pred)\n",
    "print(f'Confusion matrix: \\n{rf_confusion}\\n\\n')\n",
    "print(f'Classification Report: \\n{classification_report(y_test,rf_y_pred)}')"
   ]
  },
  {
   "cell_type": "code",
   "execution_count": 39,
   "id": "8b5372b4",
   "metadata": {},
   "outputs": [
    {
     "data": {
      "text/plain": [
       "Text(81.96000000000004, 0.5, 'True label')"
      ]
     },
     "execution_count": 39,
     "metadata": {},
     "output_type": "execute_result"
    },
    {
     "data": {
      "image/png": "[encoded data removed]",
      "text/plain": [
       "<Figure size 576x432 with 2 Axes>"
      ]
     },
     "metadata": {
      "needs_background": "light"
     },
     "output_type": "display_data"
    }
   ],
   "source": [
    "# Heatmap for Random Forest Classifier\n",
    "plt.figure(figsize=(8,6))\n",
    "sns.heatmap(rf_confusion,square=True, annot=True,cmap='nipy_spectral_r', fmt='d', cbar=True)\n",
    "plt.title('Confusion Matrix for Random Forest Classifier',fontsize = 15)\n",
    "plt.xlabel('Predicted label', fontsize =15)\n",
    "plt.ylabel('True label', fontsize =15)"
   ]
  },
  {
   "cell_type": "code",
   "execution_count": 40,
   "id": "a230fc15",
   "metadata": {},
   "outputs": [
    {
     "name": "stdout",
     "output_type": "stream",
     "text": [
      "Accuracy Score of Random Forest Classifier: 97.22222222222221\n"
     ]
    }
   ],
   "source": [
    "# score\n",
    "rf_score = rf.score(x_test, y_test)\n",
    "print('Accuracy Score of Random Forest Classifier:',(rf_score*100))"
   ]
  },
  {
   "cell_type": "markdown",
   "id": "bbcc89f7",
   "metadata": {},
   "source": [
    "### Random Forest Classifier gives 97.59% accuracy"
   ]
  },
  {
   "cell_type": "markdown",
   "id": "0b023366",
   "metadata": {},
   "source": [
    "### Some Scientist claims that it predicts the digit accurately 95% of the times. So we need to find mean of all 4 classifier to justify this hypothesis"
   ]
  },
  {
   "cell_type": "code",
   "execution_count": 41,
   "id": "588db9e9",
   "metadata": {},
   "outputs": [
    {
     "name": "stdout",
     "output_type": "stream",
     "text": [
      "Mean accuracy of all the classifier is: 97.45\n"
     ]
    }
   ],
   "source": [
    "# calculating mean for all 4 classifier\n",
    "avg_accuracy = (svc_score+lr_score+knn_score+rf_score)/4\n",
    "print(f'Mean accuracy of all the classifier is:',round(avg_accuracy,4)*100)"
   ]
  },
  {
   "cell_type": "markdown",
   "id": "97c23d80",
   "metadata": {},
   "source": [
    "### Our classifiers gives mean accuracy of 97.5%"
   ]
  },
  {
   "cell_type": "markdown",
   "id": "b1197edd",
   "metadata": {},
   "source": [
    "# Conclusion:\n",
    "\n",
    "## This dataset predicts the digits 97.5% of the time, So we can conclude that the results are consistent with the null Hypothesis."
   ]
  }
 ],
 "metadata": {
  "kernelspec": {
   "display_name": "Python 3",
   "language": "python",
   "name": "python3"
  },
  "language_info": {
   "codemirror_mode": {
    "name": "ipython",
    "version": 3
   },
   "file_extension": ".py",
   "mimetype": "text/x-python",
   "name": "python",
   "nbconvert_exporter": "python",
   "pygments_lexer": "ipython3",
   "version": "3.8.8"
  }
 },
 "nbformat": 4,
 "nbformat_minor": 5
}
